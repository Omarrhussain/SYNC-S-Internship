{
  "nbformat": 4,
  "nbformat_minor": 0,
  "metadata": {
    "colab": {
      "provenance": [],
      "authorship_tag": "ABX9TyOgoDXH/W3xwo6/plL8ucIR",
      "include_colab_link": true
    },
    "kernelspec": {
      "name": "python3",
      "display_name": "Python 3"
    },
    "language_info": {
      "name": "python"
    }
  },
  "cells": [
    {
      "cell_type": "markdown",
      "metadata": {
        "id": "view-in-github",
        "colab_type": "text"
      },
      "source": [
        "<a href=\"https://colab.research.google.com/github/Omarrhussain/SYNC-S-Internship/blob/main/ChatBot.ipynb\" target=\"_parent\"><img src=\"https://colab.research.google.com/assets/colab-badge.svg\" alt=\"Open In Colab\"/></a>"
      ]
    },
    {
      "cell_type": "code",
      "source": [
        "import numpy as np\n",
        "import json\n",
        "import re\n",
        "import tensorflow as tf\n",
        "import random\n",
        "import spacy\n",
        "nlp = spacy.load('en_core_web_sm')"
      ],
      "metadata": {
        "id": "glgPTODTKMGG"
      },
      "execution_count": null,
      "outputs": []
    },
    {
      "cell_type": "code",
      "source": [
        "with open('/content/Intent.json') as f:\n",
        "    intents = json.load(f)"
      ],
      "metadata": {
        "id": "ilIGRqZJKMIZ"
      },
      "execution_count": null,
      "outputs": []
    },
    {
      "cell_type": "code",
      "source": [
        "def preprocessing(line):\n",
        "    line = re.sub(r'[^a-zA-z.?!\\']', ' ', line)\n",
        "    line = re.sub(r'[ ]+', ' ', line)\n",
        "    return line"
      ],
      "metadata": {
        "id": "8_FpkC6uKMLH"
      },
      "execution_count": null,
      "outputs": []
    },
    {
      "cell_type": "code",
      "source": [
        "# get text and intent title from json data\n",
        "inputs, targets = [], []\n",
        "classes = []\n",
        "intent_doc = {}\n",
        "\n",
        "for intent in intents['intents']:\n",
        "    if intent['intent'] not in classes:\n",
        "        classes.append(intent['intent'])\n",
        "    if intent['intent'] not in intent_doc:\n",
        "        intent_doc[intent['intent']] = []\n",
        "\n",
        "    for text in intent['text']:\n",
        "        inputs.append(preprocessing(text))\n",
        "        targets.append(intent['intent'])\n",
        "\n",
        "    for response in intent['responses']:\n",
        "        intent_doc[intent['intent']].append(response)"
      ],
      "metadata": {
        "id": "If0JXMbmLCtO"
      },
      "execution_count": null,
      "outputs": []
    },
    {
      "cell_type": "code",
      "source": [
        "def tokenize_data(input_list):\n",
        "    tokenizer = tf.keras.preprocessing.text.Tokenizer(filters='', oov_token='<unk>')\n",
        "\n",
        "    tokenizer.fit_on_texts(input_list)\n",
        "\n",
        "    input_seq = tokenizer.texts_to_sequences(input_list)\n",
        "\n",
        "    input_seq = tf.keras.preprocessing.sequence.pad_sequences(input_seq, padding='pre')\n",
        "\n",
        "    return tokenizer, input_seq\n",
        "\n",
        "# preprocess input data\n",
        "tokenizer, input_tensor = tokenize_data(inputs)"
      ],
      "metadata": {
        "id": "6H0HwlBXLCwq"
      },
      "execution_count": null,
      "outputs": []
    },
    {
      "cell_type": "code",
      "source": [
        "def create_categorical_target(targets):\n",
        "    word={}\n",
        "    categorical_target=[]\n",
        "    counter=0\n",
        "    for trg in targets:\n",
        "        if trg not in word:\n",
        "            word[trg]=counter\n",
        "            counter+=1\n",
        "        categorical_target.append(word[trg])\n",
        "\n",
        "    categorical_tensor = tf.keras.utils.to_categorical(categorical_target, num_classes=len(word), dtype='int32')\n",
        "    return categorical_tensor, dict((v,k) for k, v in word.items())\n",
        "\n",
        "# preprocess output data\n",
        "target_tensor, trg_index_word = create_categorical_target(targets)"
      ],
      "metadata": {
        "id": "2lpr9IRTKMOL"
      },
      "execution_count": null,
      "outputs": []
    },
    {
      "cell_type": "code",
      "source": [
        "print('input shape: {} and output shape: {}'.format(input_tensor.shape, target_tensor.shape))"
      ],
      "metadata": {
        "colab": {
          "base_uri": "https://localhost:8080/"
        },
        "id": "ONCwixWdKMRo",
        "outputId": "57e3d261-cf05-4059-cdcc-647f1d801993"
      },
      "execution_count": null,
      "outputs": [
        {
          "output_type": "stream",
          "name": "stdout",
          "text": [
            "input shape: (143, 9) and output shape: (143, 22)\n"
          ]
        }
      ]
    },
    {
      "cell_type": "code",
      "source": [
        "# hyperparameters\n",
        "epochs=50\n",
        "vocab_size=len(tokenizer.word_index) + 1\n",
        "embed_dim=512\n",
        "units=128\n",
        "target_length=target_tensor.shape[1]"
      ],
      "metadata": {
        "id": "IO7UbpbcLTy9"
      },
      "execution_count": null,
      "outputs": []
    },
    {
      "cell_type": "code",
      "source": [
        "# build RNN Model with tensorflow\n",
        "model = tf.keras.models.Sequential([\n",
        "    tf.keras.layers.Embedding(vocab_size, embed_dim),\n",
        "    tf.keras.layers.Bidirectional(tf.keras.layers.LSTM(units, dropout=0.2)),\n",
        "    tf.keras.layers.Dense(units, activation='relu'),\n",
        "    tf.keras.layers.Dropout(0.5),\n",
        "    tf.keras.layers.Dense(target_length, activation='softmax')\n",
        "])\n",
        "\n",
        "optimizer = tf.keras.optimizers.Adam(lr=1e-2)\n",
        "model.compile(optimizer=optimizer, loss='categorical_crossentropy', metrics=['accuracy'])\n",
        "model.summary()"
      ],
      "metadata": {
        "colab": {
          "base_uri": "https://localhost:8080/"
        },
        "id": "iTvjBD8BLT4a",
        "outputId": "9eb57bd3-48f7-4866-a702-533fe1d84dec"
      },
      "execution_count": null,
      "outputs": [
        {
          "output_type": "stream",
          "name": "stderr",
          "text": [
            "WARNING:absl:`lr` is deprecated in Keras optimizer, please use `learning_rate` or use the legacy optimizer, e.g.,tf.keras.optimizers.legacy.Adam.\n"
          ]
        },
        {
          "output_type": "stream",
          "name": "stdout",
          "text": [
            "Model: \"sequential\"\n",
            "_________________________________________________________________\n",
            " Layer (type)                Output Shape              Param #   \n",
            "=================================================================\n",
            " embedding (Embedding)       (None, None, 512)         66048     \n",
            "                                                                 \n",
            " bidirectional (Bidirection  (None, 256)               656384    \n",
            " al)                                                             \n",
            "                                                                 \n",
            " dense (Dense)               (None, 128)               32896     \n",
            "                                                                 \n",
            " dropout (Dropout)           (None, 128)               0         \n",
            "                                                                 \n",
            " dense_1 (Dense)             (None, 22)                2838      \n",
            "                                                                 \n",
            "=================================================================\n",
            "Total params: 758166 (2.89 MB)\n",
            "Trainable params: 758166 (2.89 MB)\n",
            "Non-trainable params: 0 (0.00 Byte)\n",
            "_________________________________________________________________\n"
          ]
        }
      ]
    },
    {
      "cell_type": "code",
      "source": [
        "early_stop = tf.keras.callbacks.EarlyStopping(monitor='loss', patience=4)\n",
        "\n",
        "# train the model\n",
        "model.fit(input_tensor, target_tensor, epochs=epochs, callbacks=[early_stop])"
      ],
      "metadata": {
        "colab": {
          "base_uri": "https://localhost:8080/"
        },
        "id": "DinopHHALbMm",
        "outputId": "7666a98e-2be0-4c61-a6f4-eb4e76eafccc"
      },
      "execution_count": null,
      "outputs": [
        {
          "output_type": "stream",
          "name": "stdout",
          "text": [
            "Epoch 1/50\n",
            "5/5 [==============================] - 5s 49ms/step - loss: 3.0861 - accuracy: 0.0629\n",
            "Epoch 2/50\n",
            "5/5 [==============================] - 0s 54ms/step - loss: 3.0612 - accuracy: 0.1329\n",
            "Epoch 3/50\n",
            "5/5 [==============================] - 0s 52ms/step - loss: 3.0194 - accuracy: 0.1678\n",
            "Epoch 4/50\n",
            "5/5 [==============================] - 0s 53ms/step - loss: 2.9823 - accuracy: 0.1538\n",
            "Epoch 5/50\n",
            "5/5 [==============================] - 0s 52ms/step - loss: 2.8890 - accuracy: 0.3357\n",
            "Epoch 6/50\n",
            "5/5 [==============================] - 0s 63ms/step - loss: 2.8100 - accuracy: 0.2727\n",
            "Epoch 7/50\n",
            "5/5 [==============================] - 0s 86ms/step - loss: 2.6120 - accuracy: 0.4476\n",
            "Epoch 8/50\n",
            "5/5 [==============================] - 0s 81ms/step - loss: 2.3723 - accuracy: 0.3706\n",
            "Epoch 9/50\n",
            "5/5 [==============================] - 0s 80ms/step - loss: 2.2048 - accuracy: 0.4336\n",
            "Epoch 10/50\n",
            "5/5 [==============================] - 0s 78ms/step - loss: 1.8712 - accuracy: 0.4895\n",
            "Epoch 11/50\n",
            "5/5 [==============================] - 0s 80ms/step - loss: 1.7472 - accuracy: 0.4755\n",
            "Epoch 12/50\n",
            "5/5 [==============================] - 0s 82ms/step - loss: 1.4605 - accuracy: 0.5245\n",
            "Epoch 13/50\n",
            "5/5 [==============================] - 0s 82ms/step - loss: 1.3052 - accuracy: 0.6014\n",
            "Epoch 14/50\n",
            "5/5 [==============================] - 0s 79ms/step - loss: 1.0092 - accuracy: 0.7063\n",
            "Epoch 15/50\n",
            "5/5 [==============================] - 0s 79ms/step - loss: 0.9020 - accuracy: 0.7483\n",
            "Epoch 16/50\n",
            "5/5 [==============================] - 0s 81ms/step - loss: 0.7301 - accuracy: 0.7762\n",
            "Epoch 17/50\n",
            "5/5 [==============================] - 0s 51ms/step - loss: 0.7361 - accuracy: 0.7832\n",
            "Epoch 18/50\n",
            "5/5 [==============================] - 0s 54ms/step - loss: 0.5812 - accuracy: 0.8182\n",
            "Epoch 19/50\n",
            "5/5 [==============================] - 0s 51ms/step - loss: 0.4500 - accuracy: 0.9021\n",
            "Epoch 20/50\n",
            "5/5 [==============================] - 0s 52ms/step - loss: 0.4097 - accuracy: 0.8881\n",
            "Epoch 21/50\n",
            "5/5 [==============================] - 0s 51ms/step - loss: 0.3327 - accuracy: 0.9371\n",
            "Epoch 22/50\n",
            "5/5 [==============================] - 0s 57ms/step - loss: 0.2443 - accuracy: 0.9371\n",
            "Epoch 23/50\n",
            "5/5 [==============================] - 0s 51ms/step - loss: 0.2247 - accuracy: 0.9371\n",
            "Epoch 24/50\n",
            "5/5 [==============================] - 0s 53ms/step - loss: 0.1831 - accuracy: 0.9371\n",
            "Epoch 25/50\n",
            "5/5 [==============================] - 0s 53ms/step - loss: 0.1867 - accuracy: 0.9580\n",
            "Epoch 26/50\n",
            "5/5 [==============================] - 0s 55ms/step - loss: 0.1277 - accuracy: 0.9790\n",
            "Epoch 27/50\n",
            "5/5 [==============================] - 0s 54ms/step - loss: 0.1543 - accuracy: 0.9510\n",
            "Epoch 28/50\n",
            "5/5 [==============================] - 0s 49ms/step - loss: 0.1024 - accuracy: 0.9790\n",
            "Epoch 29/50\n",
            "5/5 [==============================] - 0s 53ms/step - loss: 0.1019 - accuracy: 0.9860\n",
            "Epoch 30/50\n",
            "5/5 [==============================] - 0s 50ms/step - loss: 0.0744 - accuracy: 1.0000\n",
            "Epoch 31/50\n",
            "5/5 [==============================] - 0s 55ms/step - loss: 0.1177 - accuracy: 0.9580\n",
            "Epoch 32/50\n",
            "5/5 [==============================] - 0s 51ms/step - loss: 0.0736 - accuracy: 0.9860\n",
            "Epoch 33/50\n",
            "5/5 [==============================] - 0s 55ms/step - loss: 0.0906 - accuracy: 0.9860\n",
            "Epoch 34/50\n",
            "5/5 [==============================] - 0s 54ms/step - loss: 0.0740 - accuracy: 0.9930\n",
            "Epoch 35/50\n",
            "5/5 [==============================] - 0s 51ms/step - loss: 0.0752 - accuracy: 0.9860\n",
            "Epoch 36/50\n",
            "5/5 [==============================] - 0s 50ms/step - loss: 0.0644 - accuracy: 0.9860\n",
            "Epoch 37/50\n",
            "5/5 [==============================] - 0s 56ms/step - loss: 0.0459 - accuracy: 1.0000\n",
            "Epoch 38/50\n",
            "5/5 [==============================] - 0s 54ms/step - loss: 0.0454 - accuracy: 0.9930\n",
            "Epoch 39/50\n",
            "5/5 [==============================] - 0s 51ms/step - loss: 0.0376 - accuracy: 0.9930\n",
            "Epoch 40/50\n",
            "5/5 [==============================] - 0s 49ms/step - loss: 0.0273 - accuracy: 1.0000\n",
            "Epoch 41/50\n",
            "5/5 [==============================] - 0s 53ms/step - loss: 0.0276 - accuracy: 1.0000\n",
            "Epoch 42/50\n",
            "5/5 [==============================] - 0s 54ms/step - loss: 0.0196 - accuracy: 1.0000\n",
            "Epoch 43/50\n",
            "5/5 [==============================] - 0s 51ms/step - loss: 0.0246 - accuracy: 1.0000\n",
            "Epoch 44/50\n",
            "5/5 [==============================] - 0s 53ms/step - loss: 0.0373 - accuracy: 0.9930\n",
            "Epoch 45/50\n",
            "5/5 [==============================] - 0s 50ms/step - loss: 0.0223 - accuracy: 0.9930\n",
            "Epoch 46/50\n",
            "5/5 [==============================] - 0s 53ms/step - loss: 0.0226 - accuracy: 1.0000\n"
          ]
        },
        {
          "output_type": "execute_result",
          "data": {
            "text/plain": [
              "<keras.src.callbacks.History at 0x7e87cf096440>"
            ]
          },
          "metadata": {},
          "execution_count": 16
        }
      ]
    },
    {
      "cell_type": "code",
      "source": [
        "def response(sentence):\n",
        "    sent_seq = []\n",
        "    doc = nlp(repr(sentence))\n",
        "\n",
        "    # split the input sentences into words\n",
        "    for token in doc:\n",
        "        if token.text in tokenizer.word_index:\n",
        "            sent_seq.append(tokenizer.word_index[token.text])\n",
        "\n",
        "        # handle the unknown words error\n",
        "        else:\n",
        "            sent_seq.append(tokenizer.word_index['<unk>'])\n",
        "\n",
        "    sent_seq = tf.expand_dims(sent_seq, 0)\n",
        "    # predict the category of input sentences\n",
        "    pred = model(sent_seq)\n",
        "\n",
        "    pred_class = np.argmax(pred.numpy(), axis=1)\n",
        "\n",
        "    # choice a random response for predicted sentence\n",
        "    return random.choice(intent_doc[trg_index_word[pred_class[0]]]), trg_index_word[pred_class[0]]\n",
        "\n",
        "# chat with bot\n",
        "print(\"Note: Enter 'quit' to break the loop.\")\n",
        "while True:\n",
        "    input_ = input('You: ')\n",
        "    if input_.lower() == 'quit':\n",
        "        break\n",
        "    res, typ = response(input_)\n",
        "    print('Bot: {} -- TYPE: {}'.format(res, typ))\n",
        "    print()"
      ],
      "metadata": {
        "colab": {
          "base_uri": "https://localhost:8080/"
        },
        "id": "RhPM7m0SLbPO",
        "outputId": "cc284bf8-9715-4697-f8fb-8fb82b3eb26b"
      },
      "execution_count": null,
      "outputs": [
        {
          "name": "stdout",
          "output_type": "stream",
          "text": [
            "Note: Enter 'quit' to break the loop.\n",
            "You: Hello\n",
            "Bot: Let me see -- TYPE: WhoAmI\n",
            "\n",
            "You: how are you ?\n",
            "Bot: Hello, how are you? I am great thanks! Please tell me your GeniSys user -- TYPE: CourtesyGreeting\n",
            "\n",
            "You:  what's your name ?\n",
            "Bot: GeniSys -- TYPE: RealNameQuery\n",
            "\n",
            "You: no i want your real name?\n",
            "Bot: My name is GeniSys -- TYPE: RealNameQuery\n",
            "\n",
            "You:  Can you tell me if you are self-aware ?\n",
            "Bot: That is an interesting question, can you prove that you are? -- TYPE: SelfAware\n",
            "\n",
            "You: tell me a joke\n",
            "Bot: A doctor thoroughly examined his patient and said, 'Look I really can't find any reason for this mysterious affliction. It's probably due to drinking.' The patient sighed and snapped, 'In that case, I'll come back when you're damn well sober!' -- TYPE: Jokes\n",
            "\n",
            "You: can you open the door please ?\n",
            "Bot: I’m sorry, I’m afraid I can’t do that! -- TYPE: PodBayDoor\n",
            "\n",
            "You: quit\n"
          ]
        }
      ]
    }
  ]
}